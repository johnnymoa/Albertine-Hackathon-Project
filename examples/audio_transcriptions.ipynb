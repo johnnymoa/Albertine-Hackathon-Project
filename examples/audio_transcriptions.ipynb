{
 "cells": [
  {
   "cell_type": "markdown",
   "id": "81d87e1a-014f-43a2-a0a5-703bd158f0f9",
   "metadata": {},
   "source": [
    "# Chat completions"
   ]
  },
  {
   "cell_type": "code",
   "execution_count": 1,
   "id": "0df030ba",
   "metadata": {},
   "outputs": [
    {
     "name": "stdout",
     "output_type": "stream",
     "text": [
      "\u001b[33mWARNING: You are using pip version 21.2.4; however, version 25.0 is available.\n",
      "You should consider upgrading via the '/Library/Developer/CommandLineTools/usr/bin/python3 -m pip install --upgrade pip' command.\u001b[0m\n",
      "Note: you may need to restart the kernel to use updated packages.\n"
     ]
    }
   ],
   "source": [
    "%pip install -qU openai"
   ]
  },
  {
   "cell_type": "code",
   "execution_count": 2,
   "id": "87185611-802d-4127-9ba0-3cc5dacb2351",
   "metadata": {},
   "outputs": [
    {
     "name": "stderr",
     "output_type": "stream",
     "text": [
      "/Users/johnny/Library/Python/3.9/lib/python/site-packages/urllib3/__init__.py:35: NotOpenSSLWarning: urllib3 v2 only supports OpenSSL 1.1.1+, currently the 'ssl' module is compiled with 'LibreSSL 2.8.3'. See: https://github.com/urllib3/urllib3/issues/3020\n",
      "  warnings.warn(\n"
     ]
    }
   ],
   "source": [
    "import os\n",
    "import requests\n",
    "from openai import OpenAI"
   ]
  },
  {
   "cell_type": "code",
   "execution_count": 3,
   "id": "08a18feb-e58b-4fb3-809e-045a81bec9dd",
   "metadata": {},
   "outputs": [],
   "source": [
    "# OpenAI client configuration\n",
    "\n",
    "base_url = \"https://albert.api.etalab.gouv.fr/v1\"\n",
    "api_key = os.getenv(\"API_KEY\")\n",
    "client = OpenAI(base_url=base_url, api_key=api_key)"
   ]
  },
  {
   "cell_type": "code",
   "execution_count": 4,
   "id": "3032b836",
   "metadata": {},
   "outputs": [
    {
     "name": "stdout",
     "output_type": "stream",
     "text": [
      "openai/whisper-large-v3\n"
     ]
    }
   ],
   "source": [
    "# get the list of available models\n",
    "response = client.models.list()\n",
    "\n",
    "# get an audio model (type: automatic-speech-recognition)\n",
    "model = [model for model in response.data if model.type == \"automatic-speech-recognition\"][0].id\n",
    "print(model)"
   ]
  },
  {
   "cell_type": "code",
   "execution_count": 5,
   "id": "aa88806c-094e-43a0-8a4f-02aefbcf4a09",
   "metadata": {},
   "outputs": [],
   "source": [
    "# download an audio file\n",
    "url = \"https://www.lightbulblanguages.co.uk/resources/audio/animal%20qu.mp3\"\n",
    "response = requests.request(\"GET\", url)"
   ]
  },
  {
   "cell_type": "code",
   "execution_count": 6,
   "id": "3f700cab-e53f-4a4c-8cbc-be9bdf96a7d7",
   "metadata": {},
   "outputs": [
    {
     "name": "stdout",
     "output_type": "stream",
     "text": [
      " Est-ce que tu as un animal ? As-tu un animal ? Tu as un animal ?\n"
     ]
    }
   ],
   "source": [
    "# transcript the audio file\n",
    "data = {\n",
    "    \"model\": model,\n",
    "    \"file\": (\"./audio.mp3\", response.content, \"audio/mp3\"),\n",
    "    \"language\": \"fr\",\n",
    "    \"response_format\": \"json\",\n",
    "    \"temperature\": 0.2,\n",
    "}\n",
    "\n",
    "response = client.audio.transcriptions.create(**data)\n",
    "print(response.text)"
   ]
  }
 ],
 "metadata": {
  "kernelspec": {
   "display_name": "Python 3",
   "language": "python",
   "name": "python3"
  },
  "language_info": {
   "codemirror_mode": {
    "name": "ipython",
    "version": 3
   },
   "file_extension": ".py",
   "mimetype": "text/x-python",
   "name": "python",
   "nbconvert_exporter": "python",
   "pygments_lexer": "ipython3",
   "version": "3.9.6"
  }
 },
 "nbformat": 4,
 "nbformat_minor": 5
}
